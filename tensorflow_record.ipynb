{
 "cells": [
  {
   "cell_type": "markdown",
   "metadata": {},
   "source": [
    "# Create TFRecord"
   ]
  },
  {
   "cell_type": "code",
   "execution_count": 2,
   "metadata": {},
   "outputs": [],
   "source": [
    "import random\n",
    "import tensorflow as tf\n",
    "import sys\n",
    "from dataset_utils import _dataset_exists, _get_filenames_and_classes, write_label_file, _convert_dataset"
   ]
  },
  {
   "cell_type": "code",
   "execution_count": null,
   "metadata": {},
   "outputs": [],
   "source": [
    "flags = tf.app.flags\n",
    "\n",
    "#State your dataset directory\n",
    "flags.DEFINE_string('dataset_dir', '../train_data', 'String: dataset directory')\n",
    "\n",
    "# Proportion of dataset to be used for evaluation\n",
    "flags.DEFINE_float('validation_size', 0.3, 'Float: The proportion of examples in the dataset to be used for validation')\n",
    "\n",
    "# The number of shards to split the dataset into.\n",
    "flags.DEFINE_integer('num_shards', 2, 'Int: Number of shards to split the TFRecord files into')\n",
    "\n",
    "# Seed for repeatability.\n",
    "flags.DEFINE_integer('random_seed', 0, 'Random seed to use for repeatability.')\n",
    "\n",
    "#Output filename for the naming the TFRecord file\n",
    "flags.DEFINE_string('tfrecord_filename', 'v1_tfrecord', 'String: The output filename to name your TFRecord file')\n",
    "\n",
    "FLAGS = flags.FLAGS\n",
    "FLAGS(sys.argv, known_only=True)"
   ]
  },
  {
   "cell_type": "code",
   "execution_count": null,
   "metadata": {},
   "outputs": [],
   "source": [
    "vid_filenames, class_names = _get_filenames_and_classes(FLAGS.dataset_dir)  \n",
    "class_names_to_ids = dict(zip(class_names, range(len(class_names))))"
   ]
  },
  {
   "cell_type": "code",
   "execution_count": null,
   "metadata": {},
   "outputs": [],
   "source": [
    "num_validation = int(FLAGS.validation_size * len(vid_filenames))\n",
    "\n",
    "random.seed(FLAGS.random_seed)\n",
    "random.shuffle(vid_filenames)\n",
    "training_filenames = vid_filenames[num_validation:]\n",
    "validation_filenames = vid_filenames[:num_validation]"
   ]
  },
  {
   "cell_type": "code",
   "execution_count": null,
   "metadata": {},
   "outputs": [],
   "source": [
    "_convert_dataset('train', training_filenames, class_names_to_ids,\n",
    "                 dataset_dir = FLAGS.dataset_dir,\n",
    "                 tfrecord_filename = FLAGS.tfrecord_filename,\n",
    "                 _NUM_SHARDS = FLAGS.num_shards)\n",
    "_convert_dataset('validation', validation_filenames, class_names_to_ids,\n",
    "                 dataset_dir = FLAGS.dataset_dir,\n",
    "                 tfrecord_filename = FLAGS.tfrecord_filename,\n",
    "                 _NUM_SHARDS = FLAGS.num_shards)"
   ]
  },
  {
   "cell_type": "code",
   "execution_count": null,
   "metadata": {},
   "outputs": [],
   "source": [
    "vid_data = tf.gfile.FastGFile(filenames[i], 'r').read()\n",
    "height, width = image_reader.read_image_dims(sess, vid_data)\n",
    "\n",
    "class_name = os.path.basename(os.path.dirname(filenames[i]))\n",
    "class_id = class_names_to_ids[class_name]\n",
    "\n",
    "example = vid_to_tfexample(\n",
    "    vid_data, 'mp4', height, width, class_id)\n",
    "tfrecord_writer.write(example.SerializeToString())"
   ]
  }
 ],
 "metadata": {
  "kernelspec": {
   "display_name": "Python 3",
   "language": "python",
   "name": "python3"
  },
  "language_info": {
   "codemirror_mode": {
    "name": "ipython",
    "version": 3
   },
   "file_extension": ".py",
   "mimetype": "text/x-python",
   "name": "python",
   "nbconvert_exporter": "python",
   "pygments_lexer": "ipython3",
   "version": "3.6.5"
  }
 },
 "nbformat": 4,
 "nbformat_minor": 2
}
