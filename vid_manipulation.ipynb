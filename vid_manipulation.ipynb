{
 "cells": [
  {
   "cell_type": "code",
   "execution_count": 2,
   "metadata": {},
   "outputs": [],
   "source": [
    "import cv2\n",
    "import numpy as np"
   ]
  },
  {
   "cell_type": "code",
   "execution_count": null,
   "metadata": {},
   "outputs": [],
   "source": [
    "def manipulate(path, name):\n",
    "    im = cv2.imread(path + name)\n",
    "    gray_im = cv2.cvtColor(im, cv2.COLOR_BGR2GRAY)\n",
    "    #rows = height, cols = width\n",
    "    rows, cols = gray_im.shape\n",
    "    cv2.imwrite('out',gray_im)\n",
    "    return gray_im"
   ]
  },
  {
   "cell_type": "code",
   "execution_count": 5,
   "metadata": {},
   "outputs": [],
   "source": [
    "def threshold_slow(T, image, image_name):\n",
    "    #save_path = 'train_data/'\n",
    "    save_counter = 0\n",
    "    save_name = image_name[0:len(image_name)-4] + '_' + str(save_counter) + '.mp4'\n",
    "\n",
    "    h = image.shape[0]\n",
    "    w = image.shape[1]\n",
    "    w_ = 1462\n",
    "    h_ = 44\n",
    "\n",
    "    strike_red = 0\n",
    "    strike_green = 0\n",
    "    y_train = []\n",
    "    for width_pixel in range(w_,350, -1):\n",
    "        \n",
    "        if strike_red == 3 or strike_green == 3:\n",
    "            save_name = image_name[0:len(image_name)-4] + '_' + str(save_counter) + '.mp4'\n",
    "            \n",
    "            save_counter += 1\n",
    "            #cropped = image[0:h, 0:width_pixel-1]\n",
    "            image[0:h, width_pixel-1:w] = 255\n",
    "            \n",
    "            if strike_red != 0:\n",
    "                y_train.append([save_name, 0])\n",
    "                save_path = 'train_data/0/'\n",
    "                cv2.imwrite(save_path + save_name, image)\n",
    "\n",
    "                #print(pixel, width_pixel)\n",
    "                #print(\"found red\")\n",
    "            if strike_green != 0:\n",
    "                \n",
    "                y_train.append([save_name,1])\n",
    "                save_path = 'train_data/1/'\n",
    "                cv2.imwrite(save_path + save_name, image)\n",
    "\n",
    "                #print(pixel, width_pixel)\n",
    "                #print(\"found green\")\n",
    "            strike_red = 0\n",
    "            strike_green = 0\n",
    "            \n",
    "        \n",
    "        for pixel in range(h_, 449):\n",
    "            #print(image[pixel, w_])\n",
    "            # red\n",
    "            # init = 2, red = 0, green = 1\n",
    "            if image[pixel, width_pixel] == 105:\n",
    "                #print(pixel, width_pixel)\n",
    "                #print(\"found red\")\n",
    "                strike_red += 1\n",
    "                break\n",
    "            # green\n",
    "            elif image[pixel, width_pixel] == 226:\n",
    "                #print(pixel, width_pixel)\n",
    "                #print(\"found green\")\n",
    "                strike_green += 1\n",
    "                break\n",
    "        #h_ = h_ + 1\n",
    "        \n",
    "\n",
    "    # return the thresholded image\n",
    "    #cv2.imwrite('gray_image.png',image)\n",
    "    #cropped = image[0:h, 0:1458]\n",
    "    #cv2.imwrite(save_path + save_name,cropped)\n",
    "\n",
    "    return image\n",
    "\n",
    "threshold_slow(0, gray_im, '0.mp4')"
   ]
  },
  {
   "cell_type": "code",
   "execution_count": 6,
   "metadata": {},
   "outputs": [
    {
     "name": "stdout",
     "output_type": "stream",
     "text": [
      "[]\n"
     ]
    }
   ],
   "source": []
  },
  {
   "cell_type": "code",
   "execution_count": null,
   "metadata": {},
   "outputs": [],
   "source": []
  }
 ],
 "metadata": {
  "kernelspec": {
   "display_name": "Python 3",
   "language": "python",
   "name": "python3"
  },
  "language_info": {
   "codemirror_mode": {
    "name": "ipython",
    "version": 3
   },
   "file_extension": ".py",
   "mimetype": "text/x-python",
   "name": "python",
   "nbconvert_exporter": "python",
   "pygments_lexer": "ipython3",
   "version": "3.6.5"
  }
 },
 "nbformat": 4,
 "nbformat_minor": 2
}
